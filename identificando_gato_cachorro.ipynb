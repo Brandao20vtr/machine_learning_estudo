{
 "cells": [
  {
   "cell_type": "markdown",
   "id": "7de5db68",
   "metadata": {},
   "source": [
    "# Mãos a Obra\n"
   ]
  },
  {
   "cell_type": "markdown",
   "id": "2f9af350",
   "metadata": {},
   "source": [
    "## Definindo, Classificando, Aprendendo, Predizendo e Analisando Resultados\n",
    "\n",
    "<p>Machine Learning é uma técnica de Inteligência Artificial (IA) que permite que a máquina aprenda através de exemplos, exatamente como os seres humanos.</p>\n",
    "\n",
    "* Os emails do Gmail já são classificados automaticamente como <strong>Spam</strong> ou <strong>Não Spam</strong>.<br>\n",
    "* O Facebook já é capaz de identificar o rosto de cada um dos seus amigos e marcá-los automaticamente nas fotos do rolê do final de semana.<br>\n",
    "* Quando você faz uma compra online e recebe sugestões de produtos que foram selecionados por uma máquina que se baseia nas suas escolhas anteriores.\n",
    "\n"
   ]
  },
  {
   "cell_type": "markdown",
   "id": "45f7ba30",
   "metadata": {},
   "source": [
    "# Definição do problema\n",
    "\n",
    "* O que queremos classificar?\n",
    "* Quais características diferenciam o conjunto?\n",
    "* Falsos positivos e falsos negativos\n",
    "* Eliminação de objetos (se não é um gato, então é um cachorro)\n",
    "\n",
    "\n",
    "### Pergunta: você sabe identificar o que é um gato ou um cachorro?\n",
    "\n",
    "<p>Vamos tomar o <strong>gato</strong> como referência!!!</p>\n",
    "<p> A <strong><em>Priori</strong></em> vamos selecionar três gatos para descrever nosso conjunto e tabular três características:</p>\n",
    "\n",
    "<table>\n",
    "    <tr>\n",
    "        <td colspan=\"4\"  align=\"center\">GATOS</td>\n",
    "    </tr>\n",
    "    <tr>\n",
    "        <td>Animal</td>\n",
    "        <td>É fofinho?</td>\n",
    "        <td>Tem orelha pequena?</td>\n",
    "        <td>Faz miau?</td>\n",
    "    </tr>\n",
    "    <tr>\n",
    "        <td>Gato 1</td>\n",
    "        <td align=\"center\">1</td>\n",
    "        <td align=\"center\">1</td>\n",
    "        <td align=\"center\">1</td>\n",
    "    </tr>\n",
    "    <tr>\n",
    "        <td>Gato 2</td>\n",
    "        <td align=\"center\">1</td>\n",
    "        <td align=\"center\">0</td>\n",
    "        <td align=\"center\">1</td>\n",
    "    </tr>\n",
    "    <tr>\n",
    "        <td>Gato 3</td>\n",
    "        <td align=\"center\">0</td>\n",
    "        <td align=\"center\">1</td>\n",
    "        <td align=\"center\">1</td>\n",
    "    </tr>\n",
    "</table>\n",
    "\n",
    "<p>Vamos definir agora nosso cachorros.</p>\n",
    "<table>\n",
    "    <tr>\n",
    "        <td colspan=\"4\"  align=\"center\">CACHORROS</td>\n",
    "    </tr>\n",
    "    <tr>\n",
    "        <td>Animal</td>\n",
    "        <td>É fofinho?</td>\n",
    "        <td>Tem orelha pequena?</td>\n",
    "        <td>Faz miau?</td>\n",
    "    </tr>\n",
    "    <tr>\n",
    "        <td>Cachorro 1</td>\n",
    "        <td align=\"center\">1</td>\n",
    "        <td align=\"center\">1</td>\n",
    "        <td align=\"center\">0</td>\n",
    "    </tr>\n",
    "    <tr>\n",
    "        <td>Cachorro 2</td>\n",
    "        <td align=\"center\">0</td>\n",
    "        <td align=\"center\">1</td>\n",
    "        <td align=\"center\">0</td>\n",
    "    </tr>\n",
    "    <tr>\n",
    "        <td>Cachorro 3</td>\n",
    "        <td align=\"center\">0</td>\n",
    "        <td align=\"center\">1</td>\n",
    "        <td align=\"center\">0</td>\n",
    "    </tr>\n",
    "</table>"
   ]
  },
  {
   "cell_type": "markdown",
   "id": "aac5901b",
   "metadata": {},
   "source": [
    "# Criando uma função\n",
    "Normalmente para modelos de Machine learning é definido (0 e 1), nesse casso irei definir (-1 e 1), sendo: \n",
    "\n",
    "*__-1 para Cachorro__*\n",
    "\n",
    "*__1 para Gato__*"
   ]
  },
  {
   "cell_type": "code",
   "execution_count": 1,
   "id": "d2d9af48",
   "metadata": {},
   "outputs": [],
   "source": [
    "# Criando uma função para lista\n",
    "def legenda(lista):\n",
    "    retorno = []   # Lista vazia\n",
    "    lista_animais = [[1, 'Gato'], [-1, 'Cachorro']]   # Lista para determinar a posição [0] e [1]\n",
    "    \n",
    "    for l in lista:\n",
    "        if l == 1:\n",
    "            retorno.append(lista_animais[0][1])   # Se identificar '1' irá adicionar\n",
    "        else:\n",
    "            retorno.append(lista_animais[1][1])\n",
    "    return retorno"
   ]
  },
  {
   "cell_type": "code",
   "execution_count": 2,
   "id": "418ca9f6",
   "metadata": {},
   "outputs": [
    {
     "data": {
      "text/plain": [
       "['Gato', 'Cachorro', 'Cachorro']"
      ]
     },
     "execution_count": 2,
     "metadata": {},
     "output_type": "execute_result"
    }
   ],
   "source": [
    "# Mostrando resultado\n",
    "legenda([1, -1, -1])"
   ]
  },
  {
   "cell_type": "markdown",
   "id": "a252b14b",
   "metadata": {},
   "source": [
    "# Montando o problema\n",
    "Transformar a informação em uma estrutura processável."
   ]
  },
  {
   "cell_type": "code",
   "execution_count": 3,
   "id": "247e034d",
   "metadata": {},
   "outputs": [],
   "source": [
    "# Gatos\n",
    "animal1 = [1, 1, 1]   # Fofinho, tem orelha pequena e faz miau\n",
    "animal2 = [1, 0, 1]   # Fofinho, não tem orelha pequena e faz miau\n",
    "animal3 = [0, 1, 1]   # Não é fofinho, tem orelha pequena e faz miau\n",
    "\n",
    "# Cachorros\n",
    "animal4 = [1, 1, 0]   # Fofinho, tem orelha pequena e não faz miau\n",
    "animal5 = [0, 1, 0]   # Não é fofinho, tem orelha pequena e não faz miau\n",
    "animal6 = [1, 0, 0]   # Fofinho, não tem orelha pequena e não faz miau"
   ]
  },
  {
   "cell_type": "markdown",
   "id": "b3b84f7c",
   "metadata": {},
   "source": [
    "# Definindo os conjuntos de dados"
   ]
  },
  {
   "cell_type": "code",
   "execution_count": 4,
   "id": "f757c989",
   "metadata": {},
   "outputs": [],
   "source": [
    "# Criando uma lista para colocar todos as variáveis de animais\n",
    "animais = [animal1, animal2, animal3, animal4, animal5, animal6]"
   ]
  },
  {
   "cell_type": "code",
   "execution_count": 5,
   "id": "62e0b1e9",
   "metadata": {},
   "outputs": [
    {
     "data": {
      "text/plain": [
       "[[1, 1, 1], [1, 0, 1], [0, 1, 1], [1, 1, 0], [0, 1, 0], [1, 0, 0]]"
      ]
     },
     "execution_count": 5,
     "metadata": {},
     "output_type": "execute_result"
    }
   ],
   "source": [
    "# Mostrando a lista dos animais\n",
    "animais"
   ]
  },
  {
   "cell_type": "markdown",
   "id": "c1b3e2a4",
   "metadata": {},
   "source": [
    "# Informando o algorítmo\n",
    "Quem é Gato e quem é Cachorro na lista\n",
    "\n",
    "__*Gato = 1*__\n",
    "\n",
    "__*Cachorro = -1*__"
   ]
  },
  {
   "cell_type": "code",
   "execution_count": 6,
   "id": "aaa18b34",
   "metadata": {},
   "outputs": [],
   "source": [
    " convencao_animais = [1, 1, 1, -1, -1, -1]"
   ]
  },
  {
   "cell_type": "markdown",
   "id": "9246ae9c",
   "metadata": {},
   "source": [
    "# Aplicando os Modelos de Machine Learning\n",
    "Abosdagens: SVM, Árvore de Decisão, K-Nearest Neighbors, Naive Bayes, entre outros."
   ]
  },
  {
   "cell_type": "code",
   "execution_count": 7,
   "id": "2a4f490f",
   "metadata": {},
   "outputs": [],
   "source": [
    "# Importando bibliotecas\n",
    "import numpy as np\n",
    "from sklearn.naive_bayes import MultinomialNB   # Vai tentar aprender e identificar os animais"
   ]
  },
  {
   "cell_type": "code",
   "execution_count": 8,
   "id": "ad7e0ae2",
   "metadata": {},
   "outputs": [
    {
     "data": {
      "text/plain": [
       "MultinomialNB()"
      ]
     },
     "execution_count": 8,
     "metadata": {},
     "output_type": "execute_result"
    }
   ],
   "source": [
    "# Treinando modelo de aprendizagem\n",
    "modelo_mnb = MultinomialNB()   # Modelo definido\n",
    "\n",
    "modelo_mnb.fit(animais, convencao_animais)   \n",
    "# '.fit(value1, value2)' --> Adiciona a lista de 'animais' no (value1)\n",
    "# e adiciona 'convencao_animais' no (value2)"
   ]
  },
  {
   "cell_type": "code",
   "execution_count": 9,
   "id": "87359a29",
   "metadata": {},
   "outputs": [
    {
     "name": "stderr",
     "output_type": "stream",
     "text": [
      "C:\\Users\\51050787\\Anaconda3\\lib\\site-packages\\sklearn\\utils\\deprecation.py:101: FutureWarning: Attribute coef_ was deprecated in version 0.24 and will be removed in 1.1 (renaming of 0.26).\n",
      "  warnings.warn(msg, category=FutureWarning)\n"
     ]
    },
    {
     "data": {
      "text/plain": [
       "array([[-1.2039728 , -1.2039728 , -0.91629073]])"
      ]
     },
     "execution_count": 9,
     "metadata": {},
     "output_type": "execute_result"
    }
   ],
   "source": [
    "# Verificando o coeficiente de aprendizagem\n",
    "modelo_mnb.coef_"
   ]
  },
  {
   "cell_type": "markdown",
   "id": "178fbc7e",
   "metadata": {},
   "source": [
    "# Realizando Predições\n",
    "Agora que o algoritmo já **APRENDEU** o que é um Gato e o que é um Cachorro, vamos predizer três animais que **NÃO** pertencem ao conjunto de dados originais.\n",
    "\n",
    "Agora o modelo que já foi criado irá tentar identificar quais são esses animais que colocamos abaixo.\n",
    "\n",
    "<table>\n",
    "    <tr>\n",
    "        <td colspan=\"4\"  align=\"center\">ANIMAIS</td>\n",
    "    </tr>\n",
    "    <tr>\n",
    "        <td>Animal</td>\n",
    "        <td>É fofinho?</td>\n",
    "        <td>Tem orelha pequena?</td>\n",
    "        <td>Faz miau?</td>\n",
    "    </tr>\n",
    "    <tr>\n",
    "        <td>test_1</td>\n",
    "        <td align=\"center\">1</td>\n",
    "        <td align=\"center\">1</td>\n",
    "        <td align=\"center\">1</td>\n",
    "    </tr>\n",
    "    <tr>\n",
    "        <td>teste_2</td>\n",
    "        <td align=\"center\">1</td>\n",
    "        <td align=\"center\">0</td>\n",
    "        <td align=\"center\">0</td>\n",
    "    </tr>\n",
    "    <tr>\n",
    "        <td>teste_3</td>\n",
    "        <td align=\"center\">0</td>\n",
    "        <td align=\"center\">0</td>\n",
    "        <td align=\"center\">1</td>\n",
    "    </tr>\n",
    "</table>"
   ]
  },
  {
   "cell_type": "code",
   "execution_count": 10,
   "id": "4aa8a3f5",
   "metadata": {},
   "outputs": [],
   "source": [
    "# Criando o conjunto de animais para que o modelo tente identificar\n",
    "teste1 = [1, 1, 1]   # Fofinho, tem orelha pequena e faz miau\n",
    "teste2 = [1, 0, 0]   # Fofinho, não tem orelha pequena e não faz miau\n",
    "teste3 = [0, 0, 1]   # Não é fofinho, Não tem orelha pequena e faz miau\n",
    "\n",
    "# Com base nessas informações acima temos: Gato, Cachorro e Gato\n",
    "# Vamos ver se o modelo consegue acertar os animais"
   ]
  },
  {
   "cell_type": "code",
   "execution_count": 11,
   "id": "3cc4b082",
   "metadata": {},
   "outputs": [
    {
     "data": {
      "text/plain": [
       "[[1, 1, 1], [1, 0, 0], [0, 0, 1]]"
      ]
     },
     "execution_count": 11,
     "metadata": {},
     "output_type": "execute_result"
    }
   ],
   "source": [
    "# Colocando os animais de teste em uma lista\n",
    "dados_teste = [teste1, teste2, teste3]\n",
    "dados_teste"
   ]
  },
  {
   "cell_type": "code",
   "execution_count": 12,
   "id": "6e5c031b",
   "metadata": {},
   "outputs": [
    {
     "data": {
      "text/plain": [
       "array([ 1, -1,  1])"
      ]
     },
     "execution_count": 12,
     "metadata": {},
     "output_type": "execute_result"
    }
   ],
   "source": [
    "# REALIZANDO O TESTE - PREDIÇÃO\n",
    "\n",
    "# '.predict(values)' --> Realiza a predição no modelo\n",
    "modelo_mnb.predict(dados_teste)\n",
    "\n",
    "# Nessa saída ele idetificou: Gato, Cachorro e Gato\n",
    "# Acertou a predição"
   ]
  },
  {
   "cell_type": "code",
   "execution_count": 13,
   "id": "8e734f4b",
   "metadata": {},
   "outputs": [
    {
     "data": {
      "text/plain": [
       "['Gato', 'Cachorro', 'Gato']"
      ]
     },
     "execution_count": 13,
     "metadata": {},
     "output_type": "execute_result"
    }
   ],
   "source": [
    "# Verificando esse resultado com o nome\n",
    "legenda(modelo_mnb.predict(dados_teste))"
   ]
  },
  {
   "cell_type": "markdown",
   "id": "4532ac43",
   "metadata": {},
   "source": [
    "# Análise dos resultados\n"
   ]
  },
  {
   "cell_type": "code",
   "execution_count": 15,
   "id": "a1d5ed99",
   "metadata": {},
   "outputs": [],
   "source": [
    "# Importando outros modelos de teste para ver se eles irão acertar\n",
    "from sklearn.neighbors import KNeighborsClassifier\n",
    "from sklearn.linear_model import LogisticRegression\n",
    "from sklearn.naive_bayes import GaussianNB   \n",
    "from sklearn.tree import DecisionTreeClassifier  "
   ]
  },
  {
   "cell_type": "markdown",
   "id": "65c7cac6",
   "metadata": {},
   "source": [
    "# Definindo os novos modelos"
   ]
  },
  {
   "cell_type": "code",
   "execution_count": 17,
   "id": "25fb23cc",
   "metadata": {},
   "outputs": [],
   "source": [
    "tree = DecisionTreeClassifier(max_depth=10)   # Árvore de Decisão\n",
    "knn = KNeighborsClassifier(n_neighbors=5)   # Vizinho mais próximo\n",
    "logreg = LogisticRegression()   # Regressão Logística\n",
    "gnb = GaussianNB()   # Gaussiana"
   ]
  },
  {
   "cell_type": "code",
   "execution_count": 19,
   "id": "be24dda4",
   "metadata": {},
   "outputs": [],
   "source": [
    "# Vamos colocar os mesmos dados anteriores para ver se esse outros modelos também vão acertar\n",
    "teste1 = [1, 1, 1]   # Fofinho, tem orelha pequena e faz miau\n",
    "teste2 = [1, 0, 0]   # Fofinho, não tem orelha pequena e não faz miau\n",
    "teste3 = [0, 0, 1]   # Não é fofinho, Não tem orelha pequena e faz miau\n",
    "\n",
    "# Com base nessas informações acima temos: Gato, Cachorro e Gato"
   ]
  },
  {
   "cell_type": "code",
   "execution_count": 25,
   "id": "00c95ca4",
   "metadata": {},
   "outputs": [
    {
     "data": {
      "text/plain": [
       "[[1, 1, 1], [1, 0, 0], [0, 0, 1]]"
      ]
     },
     "execution_count": 25,
     "metadata": {},
     "output_type": "execute_result"
    }
   ],
   "source": [
    "# Colocando os em uma lista\n",
    "dados_teste = [teste1, teste2, teste3]\n",
    "dados_teste"
   ]
  },
  {
   "cell_type": "markdown",
   "id": "ce4550c6",
   "metadata": {},
   "source": [
    "# 1° Teste - tree"
   ]
  },
  {
   "cell_type": "code",
   "execution_count": 28,
   "id": "7cfa7f2a",
   "metadata": {},
   "outputs": [
    {
     "name": "stdout",
     "output_type": "stream",
     "text": [
      "Predição:  [ 1 -1  1]\n",
      "Predição com legenda:  ['Gato', 'Cachorro', 'Gato']\n"
     ]
    }
   ],
   "source": [
    "# Atribuindo a lista animais e o que cada um é\n",
    "# Depois atribuimos a lista de dados que queremos que ele tente acertar\n",
    "tree.fit(animais, convencao_animais)\n",
    "print('Predição: ', tree.predict(dados_teste))\n",
    "print('Predição com legenda: ', legenda(tree.predict(dados_teste)))\n",
    "\n",
    "# Podemos ver que esse modelo também acertou"
   ]
  },
  {
   "cell_type": "markdown",
   "id": "2cc0d7a3",
   "metadata": {},
   "source": [
    "# 2° Teste - knn"
   ]
  },
  {
   "cell_type": "code",
   "execution_count": 31,
   "id": "1b3b7853",
   "metadata": {},
   "outputs": [
    {
     "name": "stdout",
     "output_type": "stream",
     "text": [
      "Predição:  [ 1 -1  1]\n",
      "Predição com legenda:  ['Gato', 'Cachorro', 'Gato']\n"
     ]
    }
   ],
   "source": [
    "knn.fit(animais, convencao_animais)\n",
    "print('Predição: ', knn.predict(dados_teste))\n",
    "print('Predição com legenda: ', legenda(knn.predict(dados_teste)))\n",
    "\n",
    "# Podemos ver que esse modelo também acertou"
   ]
  },
  {
   "cell_type": "markdown",
   "id": "7a1008e2",
   "metadata": {},
   "source": [
    "# 3° Teste - logreg"
   ]
  },
  {
   "cell_type": "code",
   "execution_count": 32,
   "id": "dcc3f773",
   "metadata": {},
   "outputs": [
    {
     "name": "stdout",
     "output_type": "stream",
     "text": [
      "Predição:  [ 1 -1  1]\n",
      "Predição com legenda:  ['Gato', 'Cachorro', 'Gato']\n"
     ]
    }
   ],
   "source": [
    "logreg.fit(animais, convencao_animais)\n",
    "print('Predição: ', logreg.predict(dados_teste))\n",
    "print('Predição com legenda: ', legenda(logreg.predict(dados_teste)))\n",
    "\n",
    "# Podemos ver que esse modelo também acertou"
   ]
  },
  {
   "cell_type": "markdown",
   "id": "69c1cdf7",
   "metadata": {},
   "source": [
    "# 4° Teste - gnb"
   ]
  },
  {
   "cell_type": "code",
   "execution_count": 34,
   "id": "d5594d19",
   "metadata": {},
   "outputs": [
    {
     "name": "stdout",
     "output_type": "stream",
     "text": [
      "Predição:  [ 1 -1  1]\n",
      "Predição com legenda:  ['Gato', 'Cachorro', 'Gato']\n"
     ]
    }
   ],
   "source": [
    "gnb.fit(animais, convencao_animais)\n",
    "print('Predição: ', gnb.predict(dados_teste))\n",
    "print('Predição com legenda: ', legenda(gnb.predict(dados_teste)))\n",
    "\n",
    "# Podemos ver que esse modelo também acertou"
   ]
  },
  {
   "cell_type": "code",
   "execution_count": null,
   "id": "769f9176",
   "metadata": {},
   "outputs": [],
   "source": []
  }
 ],
 "metadata": {
  "kernelspec": {
   "display_name": "Python 3 (ipykernel)",
   "language": "python",
   "name": "python3"
  },
  "language_info": {
   "codemirror_mode": {
    "name": "ipython",
    "version": 3
   },
   "file_extension": ".py",
   "mimetype": "text/x-python",
   "name": "python",
   "nbconvert_exporter": "python",
   "pygments_lexer": "ipython3",
   "version": "3.9.7"
  }
 },
 "nbformat": 4,
 "nbformat_minor": 5
}
